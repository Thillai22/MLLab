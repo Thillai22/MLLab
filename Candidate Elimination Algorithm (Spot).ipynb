{
 "cells": [
  {
   "cell_type": "code",
   "execution_count": 17,
   "metadata": {},
   "outputs": [],
   "source": [
    "import numpy as np\n",
    "import pandas as pd"
   ]
  },
  {
   "cell_type": "code",
   "execution_count": 18,
   "metadata": {},
   "outputs": [
    {
     "name": "stdout",
     "output_type": "stream",
     "text": [
      "   signal  hue  saturation is_traffic_light\n",
      "0  yellow   60         144              yes\n",
      "1   green   60         144              yes\n",
      "2   green   60         144              yes\n",
      "3  yellow   60         144              yes\n",
      "4     red   60         144              yes\n",
      "5    blue  200         250               no\n",
      "6  violet  250         125               no\n"
     ]
    }
   ],
   "source": [
    "data = pd.read_csv(\"traffic.csv\");\n",
    "print(data)"
   ]
  },
  {
   "cell_type": "code",
   "execution_count": 19,
   "metadata": {},
   "outputs": [
    {
     "name": "stdout",
     "output_type": "stream",
     "text": [
      "[['yellow' 60 144]\n",
      " ['green' 60 144]\n",
      " ['green' 60 144]\n",
      " ['yellow' 60 144]\n",
      " ['red' 60 144]\n",
      " ['blue' 200 250]\n",
      " ['violet' 250 125]]\n"
     ]
    }
   ],
   "source": [
    "attr = np.array(data)[:,:-1]\n",
    "print(attr)"
   ]
  },
  {
   "cell_type": "code",
   "execution_count": 20,
   "metadata": {},
   "outputs": [
    {
     "name": "stdout",
     "output_type": "stream",
     "text": [
      "['yes' 'yes' 'yes' 'yes' 'yes' 'no' 'no']\n"
     ]
    }
   ],
   "source": [
    "target = np.array(data)[:,-1]\n",
    "print(target)"
   ]
  },
  {
   "cell_type": "code",
   "execution_count": 23,
   "metadata": {},
   "outputs": [],
   "source": [
    "def train(attr, target):\n",
    "    s_hyp = attr[0].copy()\n",
    "    \n",
    "    n = len(s_hyp)\n",
    "    g_hyp = [[\"?\" for i in range(n)] for i in range(len(attr))]\n",
    "    \n",
    "    for row, val in enumerate(attr):\n",
    "        if target[row] == \"yes\":\n",
    "            for i in range(n):\n",
    "                if val[i] != s_hyp[i]:\n",
    "                    s_hyp[i] = \"?\"\n",
    "                    g_hyp[i][i] = \"?\"\n",
    "        if target[row] == \"no\":\n",
    "            for i in range(n):\n",
    "                if val[i] != s_hyp[i]:\n",
    "                    g_hyp[i][i] = s_hyp[i]\n",
    "                else:\n",
    "                    g_hyp[i][i] = \"?\"\n",
    "    \n",
    "    check = [\"?\" for i in range(n)]\n",
    "    indices = [i for i, row in enumerate(g_hyp) if row == check]\n",
    "    \n",
    "    for i in indices:\n",
    "        g_hyp.remove(check)\n",
    "        \n",
    "    return s_hyp, g_hyp"
   ]
  },
  {
   "cell_type": "code",
   "execution_count": 24,
   "metadata": {},
   "outputs": [
    {
     "name": "stdout",
     "output_type": "stream",
     "text": [
      "Specific Hypothesis:  ['?' 60 144]\n",
      "General Hypothesis:  [['?', 60, '?'], ['?', '?', 144]]\n"
     ]
    }
   ],
   "source": [
    "s, g = train(attr, target)\n",
    "print(\"Specific Hypothesis: \", s)\n",
    "print(\"General Hypothesis: \", g)"
   ]
  },
  {
   "cell_type": "markdown",
   "metadata": {},
   "source": [
    "<h1><i>Calculating accuracy & error rate:</i></h1>"
   ]
  },
  {
   "cell_type": "code",
   "execution_count": 37,
   "metadata": {},
   "outputs": [],
   "source": [
    "def findS(attr, target):\n",
    "    for i, t in enumerate(target):\n",
    "        if t == True:\n",
    "            s_hyp = attr[i].copy()\n",
    "            break\n",
    "            \n",
    "    for i, row in enumerate(attr):\n",
    "        if target[i] == True:\n",
    "            for col in range(len(s_hyp)):\n",
    "                if row[col] != s_hyp[col]:\n",
    "                    s_hyp[col] = \"?\"\n",
    "                else:\n",
    "                    continue\n",
    "                    \n",
    "    return s_hyp"
   ]
  },
  {
   "cell_type": "code",
   "execution_count": 41,
   "metadata": {},
   "outputs": [
    {
     "name": "stdout",
     "output_type": "stream",
     "text": [
      "[False True False False True]\n"
     ]
    }
   ],
   "source": [
    "target[0] = False\n",
    "print(target)"
   ]
  },
  {
   "cell_type": "code",
   "execution_count": 42,
   "metadata": {},
   "outputs": [
    {
     "name": "stdout",
     "output_type": "stream",
     "text": [
      "[True '?' False False]\n"
     ]
    }
   ],
   "source": [
    "s1 = findS(attr, target)\n",
    "print(s1)"
   ]
  },
  {
   "cell_type": "code",
   "execution_count": 43,
   "metadata": {},
   "outputs": [],
   "source": [
    "match = 0\n",
    "for i in range(len(s1)):\n",
    "    if s1[i] == s[i]:\n",
    "        match += 1\n",
    "        "
   ]
  },
  {
   "cell_type": "code",
   "execution_count": 44,
   "metadata": {},
   "outputs": [
    {
     "name": "stdout",
     "output_type": "stream",
     "text": [
      "Accuracy:  75.0 %\n"
     ]
    }
   ],
   "source": [
    "print(\"Accuracy: \", match/len(s1) * 100, \"%\")"
   ]
  },
  {
   "cell_type": "code",
   "execution_count": 45,
   "metadata": {},
   "outputs": [
    {
     "name": "stdout",
     "output_type": "stream",
     "text": [
      "Error Rate:  25.0 %\n"
     ]
    }
   ],
   "source": [
    "print(\"Error Rate: \", (1 - (match/len(s1))) * 100, \"%\")"
   ]
  },
  {
   "cell_type": "markdown",
   "metadata": {},
   "source": [
    "<h1>Spot</h1>"
   ]
  },
  {
   "cell_type": "code",
   "execution_count": null,
   "metadata": {},
   "outputs": [],
   "source": [
    "data = pd.read_csv"
   ]
  }
 ],
 "metadata": {
  "kernelspec": {
   "display_name": "Python 3",
   "language": "python",
   "name": "python3"
  },
  "language_info": {
   "codemirror_mode": {
    "name": "ipython",
    "version": 3
   },
   "file_extension": ".py",
   "mimetype": "text/x-python",
   "name": "python",
   "nbconvert_exporter": "python",
   "pygments_lexer": "ipython3",
   "version": "3.7.6"
  }
 },
 "nbformat": 4,
 "nbformat_minor": 4
}
