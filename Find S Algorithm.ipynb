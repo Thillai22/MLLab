{
 "cells": [
  {
   "cell_type": "code",
   "execution_count": 1,
   "metadata": {},
   "outputs": [],
   "source": [
    "import pandas as pd\n",
    "import numpy as np"
   ]
  },
  {
   "cell_type": "code",
   "execution_count": 2,
   "metadata": {},
   "outputs": [
    {
     "name": "stdout",
     "output_type": "stream",
     "text": [
      "  citations    size in_library       price editions  buy\n",
      "0      some   small         no  affordable     many   no\n",
      "1      many     big         no   expensive      one  yes\n",
      "2      some     big     always   expensive      few   no\n",
      "3      many  medium         no   expensive     many  yes\n",
      "4      many   small         no  affordable     many  yes\n"
     ]
    }
   ],
   "source": [
    "data = pd.read_csv('s.csv')\n",
    "print(data)"
   ]
  },
  {
   "cell_type": "code",
   "execution_count": 4,
   "metadata": {},
   "outputs": [
    {
     "name": "stdout",
     "output_type": "stream",
     "text": [
      "[['some' 'small' 'no' 'affordable' 'many']\n",
      " ['many' 'big' 'no' 'expensive' 'one']\n",
      " ['some' 'big' 'always' 'expensive' 'few']\n",
      " ['many' 'medium' 'no' 'expensive' 'many']\n",
      " ['many' 'small' 'no' 'affordable' 'many']]\n"
     ]
    }
   ],
   "source": [
    "attr = np.array(data)[:,:-1]\n",
    "print(attr)"
   ]
  },
  {
   "cell_type": "code",
   "execution_count": 5,
   "metadata": {},
   "outputs": [
    {
     "name": "stdout",
     "output_type": "stream",
     "text": [
      "['no' 'yes' 'no' 'yes' 'yes']\n"
     ]
    }
   ],
   "source": [
    "target = np.array(data)[:,-1]\n",
    "print(target)"
   ]
  },
  {
   "cell_type": "code",
   "execution_count": 8,
   "metadata": {},
   "outputs": [],
   "source": [
    "def train(attr, target):\n",
    "    for i, t in enumerate(target):\n",
    "        if t == \"yes\":\n",
    "            s_hyp = attr[i].copy()\n",
    "            break\n",
    "            \n",
    "    for i, row in enumerate(attr):\n",
    "        if target[i] == \"yes\":\n",
    "            for col in range(len(s_hyp)):\n",
    "                if row[col] != s_hyp[col]:\n",
    "                    s_hyp[col] = \"?\"\n",
    "                else:\n",
    "                    continue\n",
    "                    \n",
    "    return s_hyp"
   ]
  },
  {
   "cell_type": "code",
   "execution_count": 9,
   "metadata": {},
   "outputs": [
    {
     "name": "stdout",
     "output_type": "stream",
     "text": [
      "['many' '?' 'no' '?' '?']\n"
     ]
    }
   ],
   "source": [
    "print(train(attr, target))"
   ]
  },
  {
   "cell_type": "code",
   "execution_count": null,
   "metadata": {},
   "outputs": [],
   "source": []
  },
  {
   "cell_type": "code",
   "execution_count": null,
   "metadata": {},
   "outputs": [],
   "source": []
  },
  {
   "cell_type": "code",
   "execution_count": null,
   "metadata": {},
   "outputs": [],
   "source": []
  }
 ],
 "metadata": {
  "kernelspec": {
   "display_name": "Python 3",
   "language": "python",
   "name": "python3"
  },
  "language_info": {
   "codemirror_mode": {
    "name": "ipython",
    "version": 3
   },
   "file_extension": ".py",
   "mimetype": "text/x-python",
   "name": "python",
   "nbconvert_exporter": "python",
   "pygments_lexer": "ipython3",
   "version": "3.7.6"
  }
 },
 "nbformat": 4,
 "nbformat_minor": 4
}
